{
  "nbformat": 4,
  "nbformat_minor": 0,
  "metadata": {
    "colab": {
      "provenance": [],
      "authorship_tag": "ABX9TyPEzZIFXAUeQt39yU+zmg7x",
      "include_colab_link": true
    },
    "kernelspec": {
      "name": "python3",
      "display_name": "Python 3"
    },
    "language_info": {
      "name": "python"
    }
  },
  "cells": [
    {
      "cell_type": "markdown",
      "metadata": {
        "id": "view-in-github",
        "colab_type": "text"
      },
      "source": [
        "<a href=\"https://colab.research.google.com/github/nachofranco17/ProyectoCNN/blob/main/ProyectoCNN.ipynb\" target=\"_parent\"><img src=\"https://colab.research.google.com/assets/colab-badge.svg\" alt=\"Open In Colab\"/></a>"
      ]
    },
    {
      "cell_type": "code",
      "execution_count": null,
      "metadata": {
        "id": "raWRruIeTDDe"
      },
      "outputs": [],
      "source": [
        "# Probando pushes 3\n",
        "\n",
        "!pip install kagglehub\n",
        "import kagglehub\n",
        "import pandas as pd\n",
        "import os\n",
        "import matplotlib.pyplot as plt\n",
        "import matplotlib.image as mpimg\n",
        "\n",
        "# Descargando chestxray\n",
        "path = kagglehub.dataset_download(\"nih-chest-xrays/data\")\n",
        "print(\"Dataset downloaded to:\", path)\n",
        "\n",
        "csv_path = os.path.join(path, \"Data_Entry_2017.csv\")\n",
        "df = pd.read_csv(csv_path)\n",
        "print(df.head())"
      ]
    },
    {
      "cell_type": "code",
      "source": [
        "# Viendo algunas imagenes\n",
        "\n",
        "image_folder = os.path.join(path, \"images\")\n",
        "print(\"Number of images:\", len(os.listdir(image_folder)))\n",
        "print(\"Example file:\", os.listdir(image_folder)[:5])"
      ],
      "metadata": {
        "id": "hwEzc-4QaAg-"
      },
      "execution_count": null,
      "outputs": []
    },
    {
      "cell_type": "code",
      "source": [
        "img = mpimg.imread(os.path.join(image_folder, os.listdir(image_folder)[0]))\n",
        "plt.imshow(img, cmap='gray')\n",
        "plt.axis('off')\n",
        "plt.show()"
      ],
      "metadata": {
        "id": "uw4TqQGLaRCt"
      },
      "execution_count": null,
      "outputs": []
    }
  ]
}