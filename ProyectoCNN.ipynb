{
  "nbformat": 4,
  "nbformat_minor": 0,
  "metadata": {
    "colab": {
      "provenance": [],
      "include_colab_link": true
    },
    "kernelspec": {
      "name": "python3",
      "display_name": "Python 3"
    },
    "language_info": {
      "name": "python"
    }
  },
  "cells": [
    {
      "cell_type": "markdown",
      "metadata": {
        "id": "view-in-github",
        "colab_type": "text"
      },
      "source": [
        "<a href=\"https://colab.research.google.com/github/nachofranco17/ProyectoCNN/blob/main/ProyectoCNN.ipynb\" target=\"_parent\"><img src=\"https://colab.research.google.com/assets/colab-badge.svg\" alt=\"Open In Colab\"/></a>"
      ]
    },
    {
      "cell_type": "code",
      "execution_count": 1,
      "metadata": {
        "id": "raWRruIeTDDe",
        "colab": {
          "base_uri": "https://localhost:8080/"
        },
        "outputId": "fc5d70bc-6f70-47bc-aa60-a1afaa35ec35"
      },
      "outputs": [
        {
          "output_type": "stream",
          "name": "stdout",
          "text": [
            "Mounted at /content/drive\n"
          ]
        }
      ],
      "source": [
        "# --------------- Creando el directorio donde vamos a guardar el datset + imports necesarios --------------- #\n",
        "\n",
        "import pandas as pd\n",
        "import os, subprocess\n",
        "import matplotlib.pyplot as plt\n",
        "import matplotlib.image as mpimg\n",
        "from google.colab import drive\n",
        "from google.colab import files\n",
        "\n",
        "drive.mount('/content/drive', force_remount=True)\n",
        "drive_target = \"/content/drive/MyDrive/ProyectoCNNv2\"\n",
        "os.makedirs(drive_target, exist_ok=True)"
      ]
    },
    {
      "cell_type": "code",
      "source": [
        "image_dir1 = \"/content/drive/MyDrive/ProyectoCNNv1/Dataset/images\"\n",
        "\n",
        "valid_exts = ('.png', '.jpg', '.jpeg')\n",
        "\n",
        "# Contar archivos con esas extensiones\n",
        "image_count = sum(1 for f in os.listdir(image_dir1) if f.lower().endswith(valid_exts))\n",
        "\n",
        "print(f\"Total de imágenes encontradas: {image_count:,}\")\n",
        "print(\"-\" * 40)\n",
        "\n",
        "base_dir = \"/content/drive/MyDrive/ProyectoCNNv2\"\n",
        "\n",
        "# Carpetas a analizar\n",
        "folders = [f\"images_{i:03d}\" for i in range(1, 5)]  # 001 a 004\n",
        "valid_exts = ('.png', '.jpg', '.jpeg')\n",
        "\n",
        "# Contar imágenes en cada subcarpeta\n",
        "for folder in folders:\n",
        "    image_dir = os.path.join(base_dir, folder, \"images\")\n",
        "    if not os.path.exists(image_dir):\n",
        "        print(f\"⚠️  Carpeta no encontrada: {image_dir}\")\n",
        "        continue\n",
        "\n",
        "    count = sum(\n",
        "        1 for f in os.listdir(image_dir)\n",
        "        if f.lower().endswith(valid_exts)\n",
        "    )\n",
        "    print(f\"📁 {folder}: {count:,} imágenes\")"
      ],
      "metadata": {
        "colab": {
          "base_uri": "https://localhost:8080/"
        },
        "id": "vZeFhKTYTw9F",
        "outputId": "22d9c374-cb7c-4b34-b1e5-b422f93f1d55"
      },
      "execution_count": 4,
      "outputs": [
        {
          "output_type": "stream",
          "name": "stdout",
          "text": [
            "Total de imágenes encontradas: 17,580\n",
            "----------------------------------------\n",
            "📁 images_001: 4,999 imágenes\n",
            "📁 images_002: 10,000 imágenes\n",
            "📁 images_003: 10,000 imágenes\n",
            "📁 images_004: 10,000 imágenes\n"
          ]
        }
      ]
    },
    {
      "cell_type": "code",
      "source": [
        "# Cargando el CSV\n",
        "csv_path = os.path.join(path, \"Data_Entry_2017.csv\")\n",
        "image_folder = os.path.join(path, \"images\")\n",
        "df = pd.read_csv(csv_path)\n",
        "\n",
        "print(\"CSV loaded:\", df.shape)\n",
        "print(df.head())"
      ],
      "metadata": {
        "id": "d2PC8cd-w_Nu"
      },
      "execution_count": null,
      "outputs": []
    },
    {
      "cell_type": "code",
      "source": [
        "# Mostrando algunas imagenes\n",
        "\n",
        "print(\"Number of images:\", len(os.listdir(image_folder)))\n",
        "print(\"Example file:\", os.listdir(image_folder)[:5])\n",
        "\n",
        "img_path = os.path.join(image_folder, os.listdir(image_folder)[0])\n",
        "img = mpimg.imread(img_path)\n",
        "\n",
        "plt.imshow(img, cmap='gray')\n",
        "plt.axis('off')\n",
        "plt.title(\"Example Chest X-ray\")\n",
        "plt.show()"
      ],
      "metadata": {
        "id": "hwEzc-4QaAg-"
      },
      "execution_count": null,
      "outputs": []
    }
  ]
}