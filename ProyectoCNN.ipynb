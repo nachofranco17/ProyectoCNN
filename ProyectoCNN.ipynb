{
  "nbformat": 4,
  "nbformat_minor": 0,
  "metadata": {
    "colab": {
      "provenance": [],
      "include_colab_link": true
    },
    "kernelspec": {
      "name": "python3",
      "display_name": "Python 3"
    },
    "language_info": {
      "name": "python"
    }
  },
  "cells": [
    {
      "cell_type": "markdown",
      "metadata": {
        "id": "view-in-github",
        "colab_type": "text"
      },
      "source": [
        "<a href=\"https://colab.research.google.com/github/nachofranco17/ProyectoCNN/blob/main/ProyectoCNN.ipynb\" target=\"_parent\"><img src=\"https://colab.research.google.com/assets/colab-badge.svg\" alt=\"Open In Colab\"/></a>"
      ]
    },
    {
      "cell_type": "code",
      "execution_count": 5,
      "metadata": {
        "id": "raWRruIeTDDe",
        "colab": {
          "base_uri": "https://localhost:8080/"
        },
        "outputId": "e40c11b1-f0cd-4917-f8be-f98358fbf6f2"
      },
      "outputs": [
        {
          "output_type": "stream",
          "name": "stdout",
          "text": [
            "Mounted at /content/drive\n"
          ]
        }
      ],
      "source": [
        "# --------------- Creando el directorio donde vamos a guardar el datset + imports necesarios --------------- #\n",
        "\n",
        "import os, glob, json, textwrap\n",
        "import pandas as pd\n",
        "import numpy as np\n",
        "from pathlib import Path\n",
        "from google.colab import drive\n",
        "\n",
        "drive.mount('/content/drive', force_remount=True)\n",
        "\n",
        "DRIVE_ROOT = \"/content/drive/MyDrive\"\n",
        "PROJ_ROOT  = f\"{DRIVE_ROOT}/ProyectoCNNv2\"\n",
        "os.makedirs(PROJ_ROOT, exist_ok=True)"
      ]
    },
    {
      "cell_type": "code",
      "source": [
        "# --- Construyendo un diccionario {basename -> ruta absoluta} que recorra images_001/images/*.png para acceder luego más rápido a las fotos ---\n",
        "\n",
        "img_dirs = sorted(glob.glob(os.path.join(PROJ_ROOT, \"images_*\", \"images\")))\n",
        "all_img_paths = []\n",
        "for d in img_dirs:\n",
        "    all_img_paths.extend(glob.glob(os.path.join(d, \"*.png\")))\n",
        "\n",
        "img_index = {Path(p).name: p for p in all_img_paths}\n",
        "\n",
        "print(f\"Carpetas detectadas: {len(img_dirs)}\")\n",
        "print(f\"Imágenes indexadas: {len(img_index):,}\")\n",
        "\n",
        "for i, (k,v) in enumerate(list(img_index.items())[:3]):\n",
        "    print(i, \"->\", k, \":\", v)"
      ],
      "metadata": {
        "colab": {
          "base_uri": "https://localhost:8080/"
        },
        "id": "vZeFhKTYTw9F",
        "outputId": "f0a30dc1-83f7-4ae8-ef60-d8c13e8fe2cf"
      },
      "execution_count": 4,
      "outputs": [
        {
          "output_type": "stream",
          "name": "stdout",
          "text": [
            "Carpetas detectadas: 12\n",
            "Imágenes indexadas: 112,121\n",
            "0 -> 00001089_000.png : /content/drive/MyDrive/ProyectoCNNv2/images_001/images/00001089_000.png\n",
            "1 -> 00001090_000.png : /content/drive/MyDrive/ProyectoCNNv2/images_001/images/00001090_000.png\n",
            "2 -> 00001088_020.png : /content/drive/MyDrive/ProyectoCNNv2/images_001/images/00001088_020.png\n"
          ]
        }
      ]
    },
    {
      "cell_type": "code",
      "source": [
        "meta_path = os.path.join(PROJ_ROOT, \"Data_Entry_2017.csv\")\n",
        "df = pd.read_csv(meta_path)\n",
        "\n",
        "# Normalizar nombres de columnas\n",
        "df.columns = [c.strip().replace(\" \", \"_\") for c in df.columns]\n",
        "\n",
        "# Clases del ChestX-ray14 (orden canónico)\n",
        "CLASSES = [\n",
        "    \"Atelectasis\",\"Cardiomegaly\",\"Consolidation\",\"Edema\",\"Effusion\",\n",
        "    \"Emphysema\",\"Fibrosis\",\"Hernia\",\"Infiltration\",\"Mass\",\n",
        "    \"Nodule\",\"Pleural_Thickening\",\"Pneumonia\",\"Pneumothorax\"\n",
        "]\n",
        "\n",
        "# Expandir Finding_Labels a columnas binarias (multi-label)\n",
        "def labels_to_vec(s):\n",
        "    labs = [x.strip() for x in s.split(\"|\")]\n",
        "    vec = {c: 0 for c in CLASSES}\n",
        "    if labs == [\"No Finding\"]:\n",
        "        return vec\n",
        "    for x in labs:\n",
        "        if x in vec:\n",
        "            vec[x] = 1\n",
        "    return vec\n",
        "\n",
        "labels_expanded = df[\"Finding_Labels\"].apply(labels_to_vec).apply(pd.Series)\n",
        "df_ml = pd.concat([df[[\"Image_Index\",\"Patient_ID\",\"Finding_Labels\"]], labels_expanded], axis=1)\n",
        "\n",
        "# Agregar ruta absoluta del archivo\n",
        "df_ml[\"img_path\"] = df_ml[\"Image_Index\"].map(img_index.get)\n",
        "\n",
        "# Señalar imágenes faltantes físicamente (si hubiera)\n",
        "missing_imgs = df_ml[\"img_path\"].isna().sum()\n",
        "print(\"Filas totales:\", len(df_ml))\n",
        "print(\"Imágenes con ruta encontrada:\", len(df_ml) - missing_imgs)\n",
        "print(\"Imágenes faltantes (no halladas en carpetas images_*):\", missing_imgs)\n",
        "\n",
        "df_ml.head(3)"
      ],
      "metadata": {
        "id": "jX7j1L1xm3Zd"
      },
      "execution_count": null,
      "outputs": []
    }
  ]
}