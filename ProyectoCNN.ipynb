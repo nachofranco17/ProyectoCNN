{
  "nbformat": 4,
  "nbformat_minor": 0,
  "metadata": {
    "colab": {
      "provenance": [],
      "include_colab_link": true
    },
    "kernelspec": {
      "name": "python3",
      "display_name": "Python 3"
    },
    "language_info": {
      "name": "python"
    }
  },
  "cells": [
    {
      "cell_type": "markdown",
      "metadata": {
        "id": "view-in-github",
        "colab_type": "text"
      },
      "source": [
        "<a href=\"https://colab.research.google.com/github/nachofranco17/ProyectoCNN/blob/main/ProyectoCNN.ipynb\" target=\"_parent\"><img src=\"https://colab.research.google.com/assets/colab-badge.svg\" alt=\"Open In Colab\"/></a>"
      ]
    },
    {
      "cell_type": "code",
      "execution_count": 2,
      "metadata": {
        "id": "raWRruIeTDDe",
        "colab": {
          "base_uri": "https://localhost:8080/"
        },
        "outputId": "b7b2f2ab-483e-4709-be59-ac4951361af0"
      },
      "outputs": [
        {
          "output_type": "stream",
          "name": "stdout",
          "text": [
            "Mounted at /content/drive\n"
          ]
        }
      ],
      "source": [
        "# --------------- Creando el directorio donde vamos a guardar el datset + imports necesarios --------------- #\n",
        "\n",
        "import pandas as pd\n",
        "import os\n",
        "import matplotlib.pyplot as plt\n",
        "import matplotlib.image as mpimg\n",
        "from google.colab import drive\n",
        "from google.colab import files\n",
        "\n",
        "drive.mount('/content/drive', force_remount=True)\n",
        "drive_target = \"/content/drive/MyDrive/ProyectoCNN/Dataset\"\n",
        "os.makedirs(drive_target, exist_ok=True)"
      ]
    },
    {
      "cell_type": "code",
      "source": [
        "image_dir = \"/content/drive/MyDrive/ProyectoCNN/Dataset/images\"\n",
        "\n",
        "valid_exts = ('.png', '.jpg', '.jpeg')\n",
        "\n",
        "image_count = sum(1 for f in os.listdir(image_dir) if f.lower().endswith(valid_exts))\n",
        "\n",
        "print(f\"Total de imágenes encontradas: {image_count:,}\")"
      ],
      "metadata": {
        "id": "vZeFhKTYTw9F",
        "outputId": "66040b3c-ad99-47f3-b4db-bda451e5c222",
        "colab": {
          "base_uri": "https://localhost:8080/"
        }
      },
      "execution_count": 7,
      "outputs": [
        {
          "output_type": "stream",
          "name": "stdout",
          "text": [
            "Total de imágenes encontradas: 17,580\n"
          ]
        }
      ]
    },
    {
      "cell_type": "code",
      "source": [
        "# Cargando el CSV\n",
        "csv_path = os.path.join(path, \"Data_Entry_2017.csv\")\n",
        "image_folder = os.path.join(path, \"images\")\n",
        "df = pd.read_csv(csv_path)\n",
        "\n",
        "print(\"CSV loaded:\", df.shape)\n",
        "print(df.head())"
      ],
      "metadata": {
        "id": "d2PC8cd-w_Nu"
      },
      "execution_count": null,
      "outputs": []
    },
    {
      "cell_type": "code",
      "source": [
        "# Mostrando algunas imagenes\n",
        "\n",
        "print(\"Number of images:\", len(os.listdir(image_folder)))\n",
        "print(\"Example file:\", os.listdir(image_folder)[:5])\n",
        "\n",
        "img_path = os.path.join(image_folder, os.listdir(image_folder)[0])\n",
        "img = mpimg.imread(img_path)\n",
        "\n",
        "plt.imshow(img, cmap='gray')\n",
        "plt.axis('off')\n",
        "plt.title(\"Example Chest X-ray\")\n",
        "plt.show()"
      ],
      "metadata": {
        "id": "hwEzc-4QaAg-"
      },
      "execution_count": null,
      "outputs": []
    }
  ]
}