{
  "nbformat": 4,
  "nbformat_minor": 0,
  "metadata": {
    "colab": {
      "provenance": [],
      "toc_visible": true,
      "include_colab_link": true
    },
    "kernelspec": {
      "name": "python3",
      "display_name": "Python 3"
    },
    "language_info": {
      "name": "python"
    }
  },
  "cells": [
    {
      "cell_type": "markdown",
      "metadata": {
        "id": "view-in-github",
        "colab_type": "text"
      },
      "source": [
        "<a href=\"https://colab.research.google.com/github/nachofranco17/ProyectoCNN/blob/main/ProyectoCNN.ipynb\" target=\"_parent\"><img src=\"https://colab.research.google.com/assets/colab-badge.svg\" alt=\"Open In Colab\"/></a>"
      ]
    },
    {
      "cell_type": "code",
      "execution_count": null,
      "metadata": {
        "id": "raWRruIeTDDe"
      },
      "outputs": [],
      "source": [
        "\n",
        "!pip install kagglehub\n",
        "import kagglehub\n",
        "import pandas as pd\n",
        "import os, shutil\n",
        "import matplotlib.pyplot as plt\n",
        "import matplotlib.image as mpimg\n",
        "from google.colab import drive\n",
        "\n",
        "drive.mount('/content/drive', force_remount=True)   # Acá habría que ver como poner el drive de juandi\n",
        "\n"
      ]
    },
    {
      "cell_type": "code",
      "source": [
        "!df -h / /content/drive | sed -n '1p;2p;3p'"
      ],
      "metadata": {
        "id": "AqYiA_QAIQwa",
        "outputId": "83839a77-d4e2-4e99-9e5f-568e4123c4d2",
        "colab": {
          "base_uri": "https://localhost:8080/"
        }
      },
      "execution_count": 1,
      "outputs": [
        {
          "output_type": "stream",
          "name": "stdout",
          "text": [
            "df: /content/drive: No such file or directory\n",
            "Filesystem      Size  Used Avail Use% Mounted on\n",
            "overlay         108G   40G   69G  37% /\n"
          ]
        }
      ]
    },
    {
      "cell_type": "code",
      "source": [
        "# Descargando el dataset\n",
        "path = kagglehub.dataset_download(\"nih-chest-xrays/data\")\n",
        "print(\"Dataset downloaded to:\", path)\n",
        "\n",
        "# Cargando el CSV\n",
        "csv_path = os.path.join(path, \"Data_Entry_2017.csv\")\n",
        "df = pd.read_csv(csv_path)\n",
        "print(\"CSV loaded:\", df.shape)\n",
        "print(df.head())"
      ],
      "metadata": {
        "id": "d2PC8cd-w_Nu"
      },
      "execution_count": null,
      "outputs": []
    },
    {
      "cell_type": "code",
      "source": [
        "drive_target = \"/content/drive/MyDrive/Datasets/ChestXray14\"\n",
        "os.makedirs(drive_target, exist_ok=True)\n",
        "\n"
      ],
      "metadata": {
        "id": "zDplrHEIxYl0"
      },
      "execution_count": null,
      "outputs": []
    },
    {
      "cell_type": "code",
      "source": [
        "# Mostrando algunas imagenes\n",
        "\n",
        "image_folder = os.path.join(path, \"images\")\n",
        "print(\"Number of images:\", len(os.listdir(image_folder)))\n",
        "print(\"Example file:\", os.listdir(image_folder)[:5])\n",
        "\n",
        "img_path = os.path.join(image_folder, os.listdir(image_folder)[0])\n",
        "img = mpimg.imread(img_path)\n",
        "\n",
        "plt.imshow(img, cmap='gray')\n",
        "plt.axis('off')\n",
        "plt.title(\"Example Chest X-ray\")\n",
        "plt.show()"
      ],
      "metadata": {
        "id": "hwEzc-4QaAg-"
      },
      "execution_count": null,
      "outputs": []
    }
  ]
}