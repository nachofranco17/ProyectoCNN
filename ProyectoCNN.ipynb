{
  "nbformat": 4,
  "nbformat_minor": 0,
  "metadata": {
    "colab": {
      "provenance": [],
      "authorship_tag": "ABX9TyMFKDFiEJYTWM5fTk4PYIVi",
      "include_colab_link": true
    },
    "kernelspec": {
      "name": "python3",
      "display_name": "Python 3"
    },
    "language_info": {
      "name": "python"
    }
  },
  "cells": [
    {
      "cell_type": "markdown",
      "metadata": {
        "id": "view-in-github",
        "colab_type": "text"
      },
      "source": [
        "<a href=\"https://colab.research.google.com/github/nachofranco17/ProyectoCNN/blob/main/ProyectoCNN.ipynb\" target=\"_parent\"><img src=\"https://colab.research.google.com/assets/colab-badge.svg\" alt=\"Open In Colab\"/></a>"
      ]
    },
    {
      "cell_type": "code",
      "execution_count": null,
      "metadata": {
        "id": "raWRruIeTDDe"
      },
      "outputs": [],
      "source": [
        "\n",
        "!pip install kagglehub\n",
        "import kagglehub\n",
        "import pandas as pd\n",
        "import os, shutil\n",
        "import matplotlib.pyplot as plt\n",
        "import matplotlib.image as mpimg\n",
        "from google.colab import drive\n",
        "\n",
        "drive.mount('/content/drive', force_remount=True)\n",
        "\n"
      ]
    },
    {
      "cell_type": "code",
      "source": [
        "# Descargando el dataset\n",
        "path = kagglehub.dataset_download(\"nih-chest-xrays/data\")\n",
        "print(\"Dataset downloaded to:\", path)\n",
        "\n",
        "# Cargando el CSV\n",
        "csv_path = os.path.join(path, \"Data_Entry_2017.csv\")\n",
        "df = pd.read_csv(csv_path)\n",
        "print(\"CSV loaded:\", df.shape)\n",
        "print(df.head())"
      ],
      "metadata": {
        "id": "d2PC8cd-w_Nu"
      },
      "execution_count": null,
      "outputs": []
    },
    {
      "cell_type": "code",
      "source": [
        "drive_target = \"/content/drive/MyDrive/Datasets/ChestXray14\"\n",
        "os.makedirs(drive_target, exist_ok=True)\n",
        "\n"
      ],
      "metadata": {
        "id": "zDplrHEIxYl0"
      },
      "execution_count": null,
      "outputs": []
    },
    {
      "cell_type": "code",
      "source": [
        "# Mostrando algunas imagenes\n",
        "\n",
        "image_folder = os.path.join(path, \"images\")\n",
        "print(\"Number of images:\", len(os.listdir(image_folder)))\n",
        "print(\"Example file:\", os.listdir(image_folder)[:5])\n",
        "\n",
        "img_path = os.path.join(image_folder, os.listdir(image_folder)[0])\n",
        "img = mpimg.imread(img_path)\n",
        "\n",
        "plt.imshow(img, cmap='gray')\n",
        "plt.axis('off')\n",
        "plt.title(\"Example Chest X-ray\")\n",
        "plt.show()"
      ],
      "metadata": {
        "id": "hwEzc-4QaAg-"
      },
      "execution_count": null,
      "outputs": []
    }
  ]
}